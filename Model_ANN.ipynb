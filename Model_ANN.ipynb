{
  "nbformat": 4,
  "nbformat_minor": 0,
  "metadata": {
    "colab": {
      "provenance": []
    },
    "kernelspec": {
      "name": "python3",
      "display_name": "Python 3"
    },
    "language_info": {
      "name": "python"
    }
  },
  "cells": [
    {
      "cell_type": "code",
      "execution_count": 4,
      "metadata": {
        "colab": {
          "base_uri": "https://localhost:8080/"
        },
        "id": "RuFyeh1zHcF7",
        "outputId": "b377836a-1371-4559-dd5e-0db67cb4256c"
      },
      "outputs": [
        {
          "output_type": "stream",
          "name": "stdout",
          "text": [
            "Requirement already satisfied: pandas in /usr/local/lib/python3.10/dist-packages (1.5.3)\n",
            "Requirement already satisfied: matplotlib in /usr/local/lib/python3.10/dist-packages (3.7.1)\n",
            "Requirement already satisfied: seaborn in /usr/local/lib/python3.10/dist-packages (0.13.1)\n",
            "Requirement already satisfied: scikit-learn in /usr/local/lib/python3.10/dist-packages (1.2.2)\n",
            "Requirement already satisfied: tensorflow in /usr/local/lib/python3.10/dist-packages (2.15.0)\n",
            "Requirement already satisfied: python-dateutil>=2.8.1 in /usr/local/lib/python3.10/dist-packages (from pandas) (2.8.2)\n",
            "Requirement already satisfied: pytz>=2020.1 in /usr/local/lib/python3.10/dist-packages (from pandas) (2023.4)\n",
            "Requirement already satisfied: numpy>=1.21.0 in /usr/local/lib/python3.10/dist-packages (from pandas) (1.23.5)\n",
            "Requirement already satisfied: contourpy>=1.0.1 in /usr/local/lib/python3.10/dist-packages (from matplotlib) (1.2.0)\n",
            "Requirement already satisfied: cycler>=0.10 in /usr/local/lib/python3.10/dist-packages (from matplotlib) (0.12.1)\n",
            "Requirement already satisfied: fonttools>=4.22.0 in /usr/local/lib/python3.10/dist-packages (from matplotlib) (4.48.1)\n",
            "Requirement already satisfied: kiwisolver>=1.0.1 in /usr/local/lib/python3.10/dist-packages (from matplotlib) (1.4.5)\n",
            "Requirement already satisfied: packaging>=20.0 in /usr/local/lib/python3.10/dist-packages (from matplotlib) (23.2)\n",
            "Requirement already satisfied: pillow>=6.2.0 in /usr/local/lib/python3.10/dist-packages (from matplotlib) (9.4.0)\n",
            "Requirement already satisfied: pyparsing>=2.3.1 in /usr/local/lib/python3.10/dist-packages (from matplotlib) (3.1.1)\n",
            "Requirement already satisfied: scipy>=1.3.2 in /usr/local/lib/python3.10/dist-packages (from scikit-learn) (1.11.4)\n",
            "Requirement already satisfied: joblib>=1.1.1 in /usr/local/lib/python3.10/dist-packages (from scikit-learn) (1.3.2)\n",
            "Requirement already satisfied: threadpoolctl>=2.0.0 in /usr/local/lib/python3.10/dist-packages (from scikit-learn) (3.2.0)\n",
            "Requirement already satisfied: absl-py>=1.0.0 in /usr/local/lib/python3.10/dist-packages (from tensorflow) (1.4.0)\n",
            "Requirement already satisfied: astunparse>=1.6.0 in /usr/local/lib/python3.10/dist-packages (from tensorflow) (1.6.3)\n",
            "Requirement already satisfied: flatbuffers>=23.5.26 in /usr/local/lib/python3.10/dist-packages (from tensorflow) (23.5.26)\n",
            "Requirement already satisfied: gast!=0.5.0,!=0.5.1,!=0.5.2,>=0.2.1 in /usr/local/lib/python3.10/dist-packages (from tensorflow) (0.5.4)\n",
            "Requirement already satisfied: google-pasta>=0.1.1 in /usr/local/lib/python3.10/dist-packages (from tensorflow) (0.2.0)\n",
            "Requirement already satisfied: h5py>=2.9.0 in /usr/local/lib/python3.10/dist-packages (from tensorflow) (3.9.0)\n",
            "Requirement already satisfied: libclang>=13.0.0 in /usr/local/lib/python3.10/dist-packages (from tensorflow) (16.0.6)\n",
            "Requirement already satisfied: ml-dtypes~=0.2.0 in /usr/local/lib/python3.10/dist-packages (from tensorflow) (0.2.0)\n",
            "Requirement already satisfied: opt-einsum>=2.3.2 in /usr/local/lib/python3.10/dist-packages (from tensorflow) (3.3.0)\n",
            "Requirement already satisfied: protobuf!=4.21.0,!=4.21.1,!=4.21.2,!=4.21.3,!=4.21.4,!=4.21.5,<5.0.0dev,>=3.20.3 in /usr/local/lib/python3.10/dist-packages (from tensorflow) (3.20.3)\n",
            "Requirement already satisfied: setuptools in /usr/local/lib/python3.10/dist-packages (from tensorflow) (67.7.2)\n",
            "Requirement already satisfied: six>=1.12.0 in /usr/local/lib/python3.10/dist-packages (from tensorflow) (1.16.0)\n",
            "Requirement already satisfied: termcolor>=1.1.0 in /usr/local/lib/python3.10/dist-packages (from tensorflow) (2.4.0)\n",
            "Requirement already satisfied: typing-extensions>=3.6.6 in /usr/local/lib/python3.10/dist-packages (from tensorflow) (4.9.0)\n",
            "Requirement already satisfied: wrapt<1.15,>=1.11.0 in /usr/local/lib/python3.10/dist-packages (from tensorflow) (1.14.1)\n",
            "Requirement already satisfied: tensorflow-io-gcs-filesystem>=0.23.1 in /usr/local/lib/python3.10/dist-packages (from tensorflow) (0.36.0)\n",
            "Requirement already satisfied: grpcio<2.0,>=1.24.3 in /usr/local/lib/python3.10/dist-packages (from tensorflow) (1.60.1)\n",
            "Requirement already satisfied: tensorboard<2.16,>=2.15 in /usr/local/lib/python3.10/dist-packages (from tensorflow) (2.15.1)\n",
            "Requirement already satisfied: tensorflow-estimator<2.16,>=2.15.0 in /usr/local/lib/python3.10/dist-packages (from tensorflow) (2.15.0)\n",
            "Requirement already satisfied: keras<2.16,>=2.15.0 in /usr/local/lib/python3.10/dist-packages (from tensorflow) (2.15.0)\n",
            "Requirement already satisfied: wheel<1.0,>=0.23.0 in /usr/local/lib/python3.10/dist-packages (from astunparse>=1.6.0->tensorflow) (0.42.0)\n",
            "Requirement already satisfied: google-auth<3,>=1.6.3 in /usr/local/lib/python3.10/dist-packages (from tensorboard<2.16,>=2.15->tensorflow) (2.27.0)\n",
            "Requirement already satisfied: google-auth-oauthlib<2,>=0.5 in /usr/local/lib/python3.10/dist-packages (from tensorboard<2.16,>=2.15->tensorflow) (1.2.0)\n",
            "Requirement already satisfied: markdown>=2.6.8 in /usr/local/lib/python3.10/dist-packages (from tensorboard<2.16,>=2.15->tensorflow) (3.5.2)\n",
            "Requirement already satisfied: requests<3,>=2.21.0 in /usr/local/lib/python3.10/dist-packages (from tensorboard<2.16,>=2.15->tensorflow) (2.31.0)\n",
            "Requirement already satisfied: tensorboard-data-server<0.8.0,>=0.7.0 in /usr/local/lib/python3.10/dist-packages (from tensorboard<2.16,>=2.15->tensorflow) (0.7.2)\n",
            "Requirement already satisfied: werkzeug>=1.0.1 in /usr/local/lib/python3.10/dist-packages (from tensorboard<2.16,>=2.15->tensorflow) (3.0.1)\n",
            "Requirement already satisfied: cachetools<6.0,>=2.0.0 in /usr/local/lib/python3.10/dist-packages (from google-auth<3,>=1.6.3->tensorboard<2.16,>=2.15->tensorflow) (5.3.2)\n",
            "Requirement already satisfied: pyasn1-modules>=0.2.1 in /usr/local/lib/python3.10/dist-packages (from google-auth<3,>=1.6.3->tensorboard<2.16,>=2.15->tensorflow) (0.3.0)\n",
            "Requirement already satisfied: rsa<5,>=3.1.4 in /usr/local/lib/python3.10/dist-packages (from google-auth<3,>=1.6.3->tensorboard<2.16,>=2.15->tensorflow) (4.9)\n",
            "Requirement already satisfied: requests-oauthlib>=0.7.0 in /usr/local/lib/python3.10/dist-packages (from google-auth-oauthlib<2,>=0.5->tensorboard<2.16,>=2.15->tensorflow) (1.3.1)\n",
            "Requirement already satisfied: charset-normalizer<4,>=2 in /usr/local/lib/python3.10/dist-packages (from requests<3,>=2.21.0->tensorboard<2.16,>=2.15->tensorflow) (3.3.2)\n",
            "Requirement already satisfied: idna<4,>=2.5 in /usr/local/lib/python3.10/dist-packages (from requests<3,>=2.21.0->tensorboard<2.16,>=2.15->tensorflow) (3.6)\n",
            "Requirement already satisfied: urllib3<3,>=1.21.1 in /usr/local/lib/python3.10/dist-packages (from requests<3,>=2.21.0->tensorboard<2.16,>=2.15->tensorflow) (2.0.7)\n",
            "Requirement already satisfied: certifi>=2017.4.17 in /usr/local/lib/python3.10/dist-packages (from requests<3,>=2.21.0->tensorboard<2.16,>=2.15->tensorflow) (2024.2.2)\n",
            "Requirement already satisfied: MarkupSafe>=2.1.1 in /usr/local/lib/python3.10/dist-packages (from werkzeug>=1.0.1->tensorboard<2.16,>=2.15->tensorflow) (2.1.5)\n",
            "Requirement already satisfied: pyasn1<0.6.0,>=0.4.6 in /usr/local/lib/python3.10/dist-packages (from pyasn1-modules>=0.2.1->google-auth<3,>=1.6.3->tensorboard<2.16,>=2.15->tensorflow) (0.5.1)\n",
            "Requirement already satisfied: oauthlib>=3.0.0 in /usr/local/lib/python3.10/dist-packages (from requests-oauthlib>=0.7.0->google-auth-oauthlib<2,>=0.5->tensorboard<2.16,>=2.15->tensorflow) (3.2.2)\n"
          ]
        }
      ],
      "source": [
        "# Step 1: Install necessary libraries\n",
        "!pip install pandas matplotlib seaborn scikit-learn tensorflow\n"
      ]
    },
    {
      "cell_type": "code",
      "source": [
        "# Step 2: Import libraries\n",
        "import pandas as pd\n",
        "import matplotlib.pyplot as plt\n",
        "import seaborn as sns\n",
        "from sklearn.model_selection import train_test_split\n",
        "from sklearn.metrics import classification_report, accuracy_score\n",
        "from sklearn.preprocessing import StandardScaler\n",
        "import tensorflow as tf"
      ],
      "metadata": {
        "id": "ggf6e_c-HkHL"
      },
      "execution_count": 5,
      "outputs": []
    },
    {
      "cell_type": "code",
      "source": [
        "# Step 3: Load data\n",
        "historic_data = pd.read_csv(\"historic.csv\")\n",
        "prediction_data = pd.read_csv(\"prediction_input.csv\")"
      ],
      "metadata": {
        "id": "ohqK0r-4HnTC"
      },
      "execution_count": 6,
      "outputs": []
    },
    {
      "cell_type": "code",
      "source": [
        "# Step 4: Exploratory Data Analysis (EDA)\n",
        "print(historic_data.head())\n",
        "print(historic_data.info())\n",
        "\n",
        "# Visualization\n",
        "sns.countplot(x='success_indicator', data=historic_data)\n",
        "plt.title('Distribution of Success Indicator')\n",
        "plt.show()"
      ],
      "metadata": {
        "colab": {
          "base_uri": "https://localhost:8080/",
          "height": 819
        },
        "id": "rhlxZaRzHqdl",
        "outputId": "240343a9-480a-447b-8070-f54a2de64018"
      },
      "execution_count": 7,
      "outputs": [
        {
          "output_type": "stream",
          "name": "stdout",
          "text": [
            "   item_no    category      main_promotion  color  stars success_indicator\n",
            "0   739157       Tunic             Catalog  Green    3.1              flop\n",
            "1   591846      Hoodie  Category_Highlight    Red    1.5              flop\n",
            "2   337574  Sweatshirt             Catalog    Red    4.4               top\n",
            "3   401933  Polo-Shirt  Category_Highlight   Blue    3.1              flop\n",
            "4   812151      Hoodie  Category_Highlight  Green    4.1               top\n",
            "<class 'pandas.core.frame.DataFrame'>\n",
            "RangeIndex: 8000 entries, 0 to 7999\n",
            "Data columns (total 6 columns):\n",
            " #   Column             Non-Null Count  Dtype  \n",
            "---  ------             --------------  -----  \n",
            " 0   item_no            8000 non-null   int64  \n",
            " 1   category           8000 non-null   object \n",
            " 2   main_promotion     8000 non-null   object \n",
            " 3   color              8000 non-null   object \n",
            " 4   stars              8000 non-null   float64\n",
            " 5   success_indicator  8000 non-null   object \n",
            "dtypes: float64(1), int64(1), object(4)\n",
            "memory usage: 375.1+ KB\n",
            "None\n"
          ]
        },
        {
          "output_type": "display_data",
          "data": {
            "text/plain": [
              "<Figure size 640x480 with 1 Axes>"
            ],
            "image/png": "[encoded data removed]"
          },
          "metadata": {}
        }
      ]
    },
    {
      "cell_type": "code",
      "source": [
        "# Step 5: Preprocessing\n",
        "# Fill missing values\n",
        "historic_data.fillna(method='ffill', inplace=True)\n",
        "prediction_data.fillna(method='ffill', inplace=True)\n",
        "# Encode categorical variables\n",
        "historic_data = pd.get_dummies(historic_data, columns=['category', 'main_promotion', 'color'])\n",
        "prediction_data = pd.get_dummies(prediction_data, columns=['category', 'main_promotion', 'color'])\n",
        "# Standardize features\n",
        "scaler = StandardScaler()\n",
        "historic_data_scaled = scaler.fit_transform(historic_data.drop(columns=['success_indicator', 'item_no']))\n",
        "prediction_data_scaled = scaler.transform(prediction_data.drop(columns=['item_no']))"
      ],
      "metadata": {
        "id": "b617R7B2Hswi"
      },
      "execution_count": 8,
      "outputs": []
    },
    {
      "cell_type": "code",
      "source": [
        "# Step 6: Modeling (Artificial Neural Network)\n",
        "class ANNModel:\n",
        "    def __init__(self):\n",
        "        self.model = tf.keras.models.Sequential([\n",
        "            tf.keras.layers.Dense(64, activation='relu'),\n",
        "            tf.keras.layers.Dropout(0.5),\n",
        "            tf.keras.layers.Dense(1, activation='sigmoid')\n",
        "        ])\n",
        "        self.model.compile(optimizer='adam', loss='binary_crossentropy', metrics=['accuracy'])\n",
        "\n",
        "    def train(self, X, y):\n",
        "        self.model.fit(X, y, epochs=50, batch_size=32, validation_split=0.2)\n",
        "\n",
        "    def evaluate(self, X, y):\n",
        "        loss, accuracy = self.model.evaluate(X, y)\n",
        "        print(\"Testing Loss:\", loss)\n",
        "        print(\"Testing Accuracy:\", accuracy)\n",
        "\n",
        "    def predict(self, X):\n",
        "        return (self.model.predict(X) > 0.5).astype(\"int32\")\n",
        "\n",
        "# Convert categorical labels to binary\n",
        "historic_data['success_indicator'] = historic_data['success_indicator'].map({'flop': 0, 'top': 1})\n",
        "\n",
        "# Split training data\n",
        "X_train, X_test, y_train, y_test = train_test_split(historic_data_scaled, historic_data['success_indicator'], test_size=0.2, random_state=42)\n",
        "\n",
        "# Instantiate and train ANN model\n",
        "ann_model = ANNModel()\n",
        "ann_model.train(X_train, y_train)\n",
        "\n",
        "# Evaluate model on testing data\n",
        "print(\"\\nTesting Performance:\")\n",
        "ann_model.evaluate(X_test, y_test)"
      ],
      "metadata": {
        "colab": {
          "base_uri": "https://localhost:8080/"
        },
        "id": "nYpu-RZcH2cs",
        "outputId": "fbd838d2-0232-4701-b552-af2eec24b26c"
      },
      "execution_count": 9,
      "outputs": [
        {
          "output_type": "stream",
          "name": "stdout",
          "text": [
            "Epoch 1/50\n",
            "160/160 [==============================] - 1s 3ms/step - loss: 0.6561 - accuracy: 0.6297 - val_loss: 0.5090 - val_accuracy: 0.8070\n",
            "Epoch 2/50\n",
            "160/160 [==============================] - 1s 4ms/step - loss: 0.5137 - accuracy: 0.7775 - val_loss: 0.4545 - val_accuracy: 0.8328\n",
            "Epoch 3/50\n",
            "160/160 [==============================] - 1s 4ms/step - loss: 0.4744 - accuracy: 0.8023 - val_loss: 0.4382 - val_accuracy: 0.8367\n",
            "Epoch 4/50\n",
            "160/160 [==============================] - 1s 5ms/step - loss: 0.4599 - accuracy: 0.8189 - val_loss: 0.4315 - val_accuracy: 0.8484\n",
            "Epoch 5/50\n",
            "160/160 [==============================] - 1s 5ms/step - loss: 0.4548 - accuracy: 0.8213 - val_loss: 0.4247 - val_accuracy: 0.8508\n",
            "Epoch 6/50\n",
            "160/160 [==============================] - 1s 7ms/step - loss: 0.4464 - accuracy: 0.8309 - val_loss: 0.4236 - val_accuracy: 0.8531\n",
            "Epoch 7/50\n",
            "160/160 [==============================] - 1s 5ms/step - loss: 0.4416 - accuracy: 0.8283 - val_loss: 0.4201 - val_accuracy: 0.8539\n",
            "Epoch 8/50\n",
            "160/160 [==============================] - 1s 9ms/step - loss: 0.4451 - accuracy: 0.8324 - val_loss: 0.4199 - val_accuracy: 0.8547\n",
            "Epoch 9/50\n",
            "160/160 [==============================] - 1s 7ms/step - loss: 0.4381 - accuracy: 0.8391 - val_loss: 0.4183 - val_accuracy: 0.8539\n",
            "Epoch 10/50\n",
            "160/160 [==============================] - 1s 5ms/step - loss: 0.4397 - accuracy: 0.8393 - val_loss: 0.4179 - val_accuracy: 0.8555\n",
            "Epoch 11/50\n",
            "160/160 [==============================] - 1s 4ms/step - loss: 0.4305 - accuracy: 0.8371 - val_loss: 0.4155 - val_accuracy: 0.8531\n",
            "Epoch 12/50\n",
            "160/160 [==============================] - 1s 5ms/step - loss: 0.4322 - accuracy: 0.8395 - val_loss: 0.4156 - val_accuracy: 0.8516\n",
            "Epoch 13/50\n",
            "160/160 [==============================] - 1s 5ms/step - loss: 0.4281 - accuracy: 0.8439 - val_loss: 0.4138 - val_accuracy: 0.8539\n",
            "Epoch 14/50\n",
            "160/160 [==============================] - 1s 4ms/step - loss: 0.4302 - accuracy: 0.8430 - val_loss: 0.4149 - val_accuracy: 0.8562\n",
            "Epoch 15/50\n",
            "160/160 [==============================] - 1s 4ms/step - loss: 0.4304 - accuracy: 0.8418 - val_loss: 0.4133 - val_accuracy: 0.8484\n",
            "Epoch 16/50\n",
            "160/160 [==============================] - 1s 6ms/step - loss: 0.4290 - accuracy: 0.8436 - val_loss: 0.4133 - val_accuracy: 0.8539\n",
            "Epoch 17/50\n",
            "160/160 [==============================] - 1s 5ms/step - loss: 0.4350 - accuracy: 0.8400 - val_loss: 0.4136 - val_accuracy: 0.8555\n",
            "Epoch 18/50\n",
            "160/160 [==============================] - 1s 4ms/step - loss: 0.4242 - accuracy: 0.8439 - val_loss: 0.4112 - val_accuracy: 0.8500\n",
            "Epoch 19/50\n",
            "160/160 [==============================] - 1s 5ms/step - loss: 0.4242 - accuracy: 0.8428 - val_loss: 0.4119 - val_accuracy: 0.8570\n",
            "Epoch 20/50\n",
            "160/160 [==============================] - 1s 5ms/step - loss: 0.4218 - accuracy: 0.8447 - val_loss: 0.4107 - val_accuracy: 0.8547\n",
            "Epoch 21/50\n",
            "160/160 [==============================] - 1s 5ms/step - loss: 0.4274 - accuracy: 0.8422 - val_loss: 0.4123 - val_accuracy: 0.8539\n",
            "Epoch 22/50\n",
            "160/160 [==============================] - 1s 6ms/step - loss: 0.4202 - accuracy: 0.8457 - val_loss: 0.4106 - val_accuracy: 0.8516\n",
            "Epoch 23/50\n",
            "160/160 [==============================] - 2s 10ms/step - loss: 0.4246 - accuracy: 0.8443 - val_loss: 0.4107 - val_accuracy: 0.8539\n",
            "Epoch 24/50\n",
            "160/160 [==============================] - 2s 11ms/step - loss: 0.4193 - accuracy: 0.8496 - val_loss: 0.4098 - val_accuracy: 0.8555\n",
            "Epoch 25/50\n",
            "160/160 [==============================] - 1s 7ms/step - loss: 0.4180 - accuracy: 0.8459 - val_loss: 0.4105 - val_accuracy: 0.8602\n",
            "Epoch 26/50\n",
            "160/160 [==============================] - 1s 5ms/step - loss: 0.4160 - accuracy: 0.8480 - val_loss: 0.4085 - val_accuracy: 0.8500\n",
            "Epoch 27/50\n",
            "160/160 [==============================] - 1s 5ms/step - loss: 0.4194 - accuracy: 0.8455 - val_loss: 0.4080 - val_accuracy: 0.8547\n",
            "Epoch 28/50\n",
            "160/160 [==============================] - 1s 7ms/step - loss: 0.4194 - accuracy: 0.8447 - val_loss: 0.4094 - val_accuracy: 0.8547\n",
            "Epoch 29/50\n",
            "160/160 [==============================] - 1s 6ms/step - loss: 0.4154 - accuracy: 0.8490 - val_loss: 0.4087 - val_accuracy: 0.8547\n",
            "Epoch 30/50\n",
            "160/160 [==============================] - 0s 2ms/step - loss: 0.4190 - accuracy: 0.8482 - val_loss: 0.4078 - val_accuracy: 0.8539\n",
            "Epoch 31/50\n",
            "160/160 [==============================] - 0s 2ms/step - loss: 0.4198 - accuracy: 0.8459 - val_loss: 0.4073 - val_accuracy: 0.8539\n",
            "Epoch 32/50\n",
            "160/160 [==============================] - 0s 2ms/step - loss: 0.4208 - accuracy: 0.8451 - val_loss: 0.4085 - val_accuracy: 0.8531\n",
            "Epoch 33/50\n",
            "160/160 [==============================] - 0s 2ms/step - loss: 0.4172 - accuracy: 0.8451 - val_loss: 0.4093 - val_accuracy: 0.8547\n",
            "Epoch 34/50\n",
            "160/160 [==============================] - 0s 2ms/step - loss: 0.4129 - accuracy: 0.8508 - val_loss: 0.4071 - val_accuracy: 0.8508\n",
            "Epoch 35/50\n",
            "160/160 [==============================] - 0s 2ms/step - loss: 0.4137 - accuracy: 0.8490 - val_loss: 0.4090 - val_accuracy: 0.8523\n",
            "Epoch 36/50\n",
            "160/160 [==============================] - 0s 2ms/step - loss: 0.4212 - accuracy: 0.8488 - val_loss: 0.4081 - val_accuracy: 0.8516\n",
            "Epoch 37/50\n",
            "160/160 [==============================] - 0s 2ms/step - loss: 0.4121 - accuracy: 0.8453 - val_loss: 0.4081 - val_accuracy: 0.8492\n",
            "Epoch 38/50\n",
            "160/160 [==============================] - 0s 2ms/step - loss: 0.4171 - accuracy: 0.8469 - val_loss: 0.4081 - val_accuracy: 0.8523\n",
            "Epoch 39/50\n",
            "160/160 [==============================] - 0s 2ms/step - loss: 0.4137 - accuracy: 0.8457 - val_loss: 0.4086 - val_accuracy: 0.8547\n",
            "Epoch 40/50\n",
            "160/160 [==============================] - 0s 2ms/step - loss: 0.4172 - accuracy: 0.8463 - val_loss: 0.4077 - val_accuracy: 0.8500\n",
            "Epoch 41/50\n",
            "160/160 [==============================] - 0s 2ms/step - loss: 0.4195 - accuracy: 0.8461 - val_loss: 0.4070 - val_accuracy: 0.8562\n",
            "Epoch 42/50\n",
            "160/160 [==============================] - 0s 2ms/step - loss: 0.4135 - accuracy: 0.8459 - val_loss: 0.4067 - val_accuracy: 0.8539\n",
            "Epoch 43/50\n",
            "160/160 [==============================] - 0s 2ms/step - loss: 0.4171 - accuracy: 0.8459 - val_loss: 0.4048 - val_accuracy: 0.8570\n",
            "Epoch 44/50\n",
            "160/160 [==============================] - 1s 4ms/step - loss: 0.4087 - accuracy: 0.8494 - val_loss: 0.4034 - val_accuracy: 0.8531\n",
            "Epoch 45/50\n",
            "160/160 [==============================] - 1s 4ms/step - loss: 0.4115 - accuracy: 0.8525 - val_loss: 0.4039 - val_accuracy: 0.8516\n",
            "Epoch 46/50\n",
            "160/160 [==============================] - 1s 3ms/step - loss: 0.4153 - accuracy: 0.8486 - val_loss: 0.4056 - val_accuracy: 0.8516\n",
            "Epoch 47/50\n",
            "160/160 [==============================] - 1s 4ms/step - loss: 0.4126 - accuracy: 0.8475 - val_loss: 0.4052 - val_accuracy: 0.8500\n",
            "Epoch 48/50\n",
            "160/160 [==============================] - 0s 3ms/step - loss: 0.4155 - accuracy: 0.8486 - val_loss: 0.4053 - val_accuracy: 0.8523\n",
            "Epoch 49/50\n",
            "160/160 [==============================] - 0s 2ms/step - loss: 0.4109 - accuracy: 0.8523 - val_loss: 0.4053 - val_accuracy: 0.8516\n",
            "Epoch 50/50\n",
            "160/160 [==============================] - 0s 2ms/step - loss: 0.4120 - accuracy: 0.8520 - val_loss: 0.4053 - val_accuracy: 0.8562\n",
            "\n",
            "Testing Performance:\n",
            "50/50 [==============================] - 0s 2ms/step - loss: 0.4123 - accuracy: 0.8438\n",
            "Testing Loss: 0.4123397767543793\n",
            "Testing Accuracy: 0.84375\n"
          ]
        }
      ]
    },
    {
      "cell_type": "code",
      "source": [
        "# Step 7: Predictions on prediction_input.csv\n",
        "# Make predictions using the trained model\n",
        "predictions = ann_model.predict(prediction_data_scaled)\n",
        "\n",
        "# Display predictions for each input entry\n",
        "top_count = sum(predictions == 1)\n",
        "flop_count = sum(predictions == 0)\n",
        "print(f\"Total Top Entries: {top_count}\")\n",
        "print(f\"Total Flop Entries: {flop_count}\")\n",
        "\n",
        "# Visualize the counts\n",
        "plt.figure(figsize=(8, 6))\n",
        "sns.countplot(x=predictions.flatten(), palette='viridis')\n",
        "plt.title('Predicted Success Indicator Distribution')\n",
        "plt.xlabel('Success Indicator')\n",
        "plt.ylabel('Count')\n",
        "plt.xticks(ticks=[0, 1], labels=['Flop', 'Top'])\n",
        "plt.show()\n"
      ],
      "metadata": {
        "colab": {
          "base_uri": "https://localhost:8080/",
          "height": 723
        },
        "id": "bQR9hS8vH3rD",
        "outputId": "177ba480-38f3-4d05-9959-5a9ea7a1b646"
      },
      "execution_count": 10,
      "outputs": [
        {
          "output_type": "stream",
          "name": "stdout",
          "text": [
            "63/63 [==============================] - 0s 1ms/step\n",
            "Total Top Entries: [1395]\n",
            "Total Flop Entries: [605]\n"
          ]
        },
        {
          "output_type": "stream",
          "name": "stderr",
          "text": [
            "<ipython-input-10-c14cbbc021f1>:13: FutureWarning: \n",
            "\n",
            "Passing `palette` without assigning `hue` is deprecated and will be removed in v0.14.0. Assign the `x` variable to `hue` and set `legend=False` for the same effect.\n",
            "\n",
            "  sns.countplot(x=predictions.flatten(), palette='viridis')\n"
          ]
        },
        {
          "output_type": "display_data",
          "data": {
            "text/plain": [
              "<Figure size 800x600 with 1 Axes>"
            ],
            "image/png": "[encoded data removed]"
          },
          "metadata": {}
        }
      ]
    }
  ]
}