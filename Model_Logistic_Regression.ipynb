{
  "nbformat": 4,
  "nbformat_minor": 0,
  "metadata": {
    "colab": {
      "provenance": []
    },
    "kernelspec": {
      "name": "python3",
      "display_name": "Python 3"
    },
    "language_info": {
      "name": "python"
    }
  },
  "cells": [
    {
      "cell_type": "code",
      "source": [
        "# Step 1: Install necessary libraries\n",
        "!pip install pandas matplotlib seaborn scikit-learn"
      ],
      "metadata": {
        "colab": {
          "base_uri": "https://localhost:8080/"
        },
        "id": "PQtQ1aYVB6mn",
        "outputId": "66cfad85-61ff-47f0-f2e9-6486caa4199a"
      },
      "execution_count": 2,
      "outputs": [
        {
          "output_type": "stream",
          "name": "stdout",
          "text": [
            "Requirement already satisfied: pandas in /usr/local/lib/python3.10/dist-packages (1.5.3)\n",
            "Requirement already satisfied: matplotlib in /usr/local/lib/python3.10/dist-packages (3.7.1)\n",
            "Requirement already satisfied: seaborn in /usr/local/lib/python3.10/dist-packages (0.13.1)\n",
            "Requirement already satisfied: scikit-learn in /usr/local/lib/python3.10/dist-packages (1.2.2)\n",
            "Requirement already satisfied: python-dateutil>=2.8.1 in /usr/local/lib/python3.10/dist-packages (from pandas) (2.8.2)\n",
            "Requirement already satisfied: pytz>=2020.1 in /usr/local/lib/python3.10/dist-packages (from pandas) (2023.4)\n",
            "Requirement already satisfied: numpy>=1.21.0 in /usr/local/lib/python3.10/dist-packages (from pandas) (1.23.5)\n",
            "Requirement already satisfied: contourpy>=1.0.1 in /usr/local/lib/python3.10/dist-packages (from matplotlib) (1.2.0)\n",
            "Requirement already satisfied: cycler>=0.10 in /usr/local/lib/python3.10/dist-packages (from matplotlib) (0.12.1)\n",
            "Requirement already satisfied: fonttools>=4.22.0 in /usr/local/lib/python3.10/dist-packages (from matplotlib) (4.48.1)\n",
            "Requirement already satisfied: kiwisolver>=1.0.1 in /usr/local/lib/python3.10/dist-packages (from matplotlib) (1.4.5)\n",
            "Requirement already satisfied: packaging>=20.0 in /usr/local/lib/python3.10/dist-packages (from matplotlib) (23.2)\n",
            "Requirement already satisfied: pillow>=6.2.0 in /usr/local/lib/python3.10/dist-packages (from matplotlib) (9.4.0)\n",
            "Requirement already satisfied: pyparsing>=2.3.1 in /usr/local/lib/python3.10/dist-packages (from matplotlib) (3.1.1)\n",
            "Requirement already satisfied: scipy>=1.3.2 in /usr/local/lib/python3.10/dist-packages (from scikit-learn) (1.11.4)\n",
            "Requirement already satisfied: joblib>=1.1.1 in /usr/local/lib/python3.10/dist-packages (from scikit-learn) (1.3.2)\n",
            "Requirement already satisfied: threadpoolctl>=2.0.0 in /usr/local/lib/python3.10/dist-packages (from scikit-learn) (3.2.0)\n",
            "Requirement already satisfied: six>=1.5 in /usr/local/lib/python3.10/dist-packages (from python-dateutil>=2.8.1->pandas) (1.16.0)\n"
          ]
        }
      ]
    },
    {
      "cell_type": "code",
      "source": [
        "# Step 2: Import libraries\n",
        "import pandas as pd\n",
        "import matplotlib.pyplot as plt\n",
        "import seaborn as sns\n",
        "from sklearn.model_selection import train_test_split\n",
        "from sklearn.linear_model import LogisticRegression\n",
        "from sklearn.metrics import classification_report, accuracy_score, precision_recall_fscore_support\n",
        "from sklearn.preprocessing import StandardScaler"
      ],
      "metadata": {
        "id": "ph2YlORDB8Bl"
      },
      "execution_count": 3,
      "outputs": []
    },
    {
      "cell_type": "code",
      "source": [
        "# Step 3: Load data\n",
        "historic_data = pd.read_csv(\"historic.csv\")\n",
        "prediction_data = pd.read_csv(\"prediction_input.csv\")"
      ],
      "metadata": {
        "id": "oBCOx5MWCB0W"
      },
      "execution_count": 4,
      "outputs": []
    },
    {
      "cell_type": "code",
      "source": [
        "# Step 4: Exploratory Data Analysis (EDA)\n",
        "print(historic_data.head())\n",
        "print(historic_data.info())"
      ],
      "metadata": {
        "colab": {
          "base_uri": "https://localhost:8080/"
        },
        "id": "hMo8mwg7CEGe",
        "outputId": "7348071b-3965-4f77-bff0-cacd346ff31f"
      },
      "execution_count": 5,
      "outputs": [
        {
          "output_type": "stream",
          "name": "stdout",
          "text": [
            "   item_no    category      main_promotion  color  stars success_indicator\n",
            "0   739157       Tunic             Catalog  Green    3.1              flop\n",
            "1   591846      Hoodie  Category_Highlight    Red    1.5              flop\n",
            "2   337574  Sweatshirt             Catalog    Red    4.4               top\n",
            "3   401933  Polo-Shirt  Category_Highlight   Blue    3.1              flop\n",
            "4   812151      Hoodie  Category_Highlight  Green    4.1               top\n",
            "<class 'pandas.core.frame.DataFrame'>\n",
            "RangeIndex: 8000 entries, 0 to 7999\n",
            "Data columns (total 6 columns):\n",
            " #   Column             Non-Null Count  Dtype  \n",
            "---  ------             --------------  -----  \n",
            " 0   item_no            8000 non-null   int64  \n",
            " 1   category           8000 non-null   object \n",
            " 2   main_promotion     8000 non-null   object \n",
            " 3   color              8000 non-null   object \n",
            " 4   stars              8000 non-null   float64\n",
            " 5   success_indicator  8000 non-null   object \n",
            "dtypes: float64(1), int64(1), object(4)\n",
            "memory usage: 375.1+ KB\n",
            "None\n"
          ]
        }
      ]
    },
    {
      "cell_type": "code",
      "source": [
        "# Visualization\n",
        "sns.countplot(x='success_indicator', data=historic_data)\n",
        "plt.title('Distribution of Success Indicator')\n",
        "plt.show()"
      ],
      "metadata": {
        "colab": {
          "base_uri": "https://localhost:8080/",
          "height": 472
        },
        "id": "d7MHV0xSCHDG",
        "outputId": "17bdbd84-aca2-4157-aab9-f8f349da35f3"
      },
      "execution_count": 6,
      "outputs": [
        {
          "output_type": "display_data",
          "data": {
            "text/plain": [
              "<Figure size 640x480 with 1 Axes>"
            ],
            "image/png": "[encoded data removed]"
          },
          "metadata": {}
        }
      ]
    },
    {
      "cell_type": "code",
      "source": [
        "# Step 5: Preprocessing\n",
        "# Fill missing values\n",
        "historic_data.fillna(method='ffill', inplace=True)\n",
        "prediction_data.fillna(method='ffill', inplace=True)\n",
        "# Encode categorical variables\n",
        "historic_data = pd.get_dummies(historic_data, columns=['category', 'main_promotion', 'color'])\n",
        "prediction_data = pd.get_dummies(prediction_data, columns=['category', 'main_promotion', 'color'])\n",
        "# Standardize features\n",
        "scaler = StandardScaler()\n",
        "historic_data_scaled = scaler.fit_transform(historic_data.drop(columns=['success_indicator', 'item_no']))\n",
        "prediction_data_scaled = scaler.transform(prediction_data.drop(columns=['item_no']))"
      ],
      "metadata": {
        "id": "3sv8Zr6FCJ6J"
      },
      "execution_count": 7,
      "outputs": []
    },
    {
      "cell_type": "code",
      "source": [
        "# Step 6: Modeling (Logistic Regression)\n",
        "class LogisticRegressionModel:\n",
        "    def __init__(self):\n",
        "        self.model = LogisticRegression()\n",
        "\n",
        "    def train(self, X, y):\n",
        "        self.model.fit(X, y)\n",
        "\n",
        "    def evaluate(self, X, y):\n",
        "        y_pred = self.model.predict(X)\n",
        "        print(\"Classification Report:\")\n",
        "        print(classification_report(y, y_pred))\n",
        "        print(\"Accuracy:\", accuracy_score(y, y_pred))\n",
        "\n",
        "    def predict(self, X):\n",
        "        return self.model.predict(X)\n",
        "\n",
        "# Convert categorical labels to binary\n",
        "historic_data['success_indicator'] = historic_data['success_indicator'].map({'flop': 0, 'top': 1})\n",
        "\n",
        "# Split training data\n",
        "X_train, X_test, y_train, y_test = train_test_split(historic_data_scaled, historic_data['success_indicator'], test_size=0.2, random_state=42)\n",
        "\n",
        "# Instantiate and train logistic regression model\n",
        "logistic_regression_model = LogisticRegressionModel()\n",
        "logistic_regression_model.train(X_train, y_train)\n",
        "\n",
        "# Evaluate model on training data\n",
        "print(\"Training Performance:\")\n",
        "logistic_regression_model.evaluate(X_train, y_train)\n",
        "\n",
        "# Evaluate model on testing data\n",
        "print(\"\\nTesting Performance:\")\n",
        "logistic_regression_model.evaluate(X_test, y_test)"
      ],
      "metadata": {
        "colab": {
          "base_uri": "https://localhost:8080/"
        },
        "id": "CfB4ZSISCQA-",
        "outputId": "bf44239c-db34-4466-91f3-01e7489bcc85"
      },
      "execution_count": 8,
      "outputs": [
        {
          "output_type": "stream",
          "name": "stdout",
          "text": [
            "Training Performance:\n",
            "Classification Report:\n",
            "              precision    recall  f1-score   support\n",
            "\n",
            "           0       0.78      0.67      0.72      2244\n",
            "           1       0.84      0.89      0.86      4156\n",
            "\n",
            "    accuracy                           0.82      6400\n",
            "   macro avg       0.81      0.78      0.79      6400\n",
            "weighted avg       0.81      0.82      0.81      6400\n",
            "\n",
            "Accuracy: 0.8175\n",
            "\n",
            "Testing Performance:\n",
            "Classification Report:\n",
            "              precision    recall  f1-score   support\n",
            "\n",
            "           0       0.80      0.66      0.72       571\n",
            "           1       0.83      0.91      0.87      1029\n",
            "\n",
            "    accuracy                           0.82      1600\n",
            "   macro avg       0.81      0.78      0.79      1600\n",
            "weighted avg       0.82      0.82      0.81      1600\n",
            "\n",
            "Accuracy: 0.818125\n"
          ]
        }
      ]
    },
    {
      "cell_type": "code",
      "source": [
        "# Step 7: Predictions on prediction_input.csv\n",
        "# Make predictions using the trained model\n",
        "predictions = logistic_regression_model.predict(prediction_data_scaled)\n",
        "\n",
        "# Display predictions for each input entry\n",
        "top_count = sum(predictions == 1)\n",
        "flop_count = sum(predictions == 0)\n",
        "print(f\"Total Top Entries: {top_count}\")\n",
        "print(f\"Total Flop Entries: {flop_count}\")\n",
        "\n",
        "# Visualize the counts\n",
        "plt.figure(figsize=(8, 6))\n",
        "sns.countplot(x=predictions, palette='viridis')\n",
        "plt.title('Predicted Success Indicator Distribution')\n",
        "plt.xlabel('Success Indicator')\n",
        "plt.ylabel('Count')\n",
        "plt.xticks(ticks=[0, 1], labels=['Flop', 'Top'])\n",
        "plt.show()\n"
      ],
      "metadata": {
        "colab": {
          "base_uri": "https://localhost:8080/",
          "height": 706
        },
        "id": "tVlAl-xTCUeH",
        "outputId": "f24c9c9c-cb21-44f0-ed56-a954785a943a"
      },
      "execution_count": 9,
      "outputs": [
        {
          "output_type": "stream",
          "name": "stdout",
          "text": [
            "Total Top Entries: 1391\n",
            "Total Flop Entries: 609\n"
          ]
        },
        {
          "output_type": "stream",
          "name": "stderr",
          "text": [
            "<ipython-input-9-f91f1ac19ba1>:13: FutureWarning: \n",
            "\n",
            "Passing `palette` without assigning `hue` is deprecated and will be removed in v0.14.0. Assign the `x` variable to `hue` and set `legend=False` for the same effect.\n",
            "\n",
            "  sns.countplot(x=predictions, palette='viridis')\n"
          ]
        },
        {
          "output_type": "display_data",
          "data": {
            "text/plain": [
              "<Figure size 800x600 with 1 Axes>"
            ],
            "image/png": "[encoded data removed]"
          },
          "metadata": {}
        }
      ]
    }
  ]
}